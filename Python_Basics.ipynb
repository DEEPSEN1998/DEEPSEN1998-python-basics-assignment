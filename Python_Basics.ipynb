{
  "nbformat": 4,
  "nbformat_minor": 0,
  "metadata": {
    "colab": {
      "provenance": []
    },
    "kernelspec": {
      "name": "python3",
      "display_name": "Python 3"
    },
    "language_info": {
      "name": "python"
    }
  },
  "cells": [
    {
      "cell_type": "code",
      "execution_count": null,
      "metadata": {
        "id": "sc5YcvarJiCB"
      },
      "outputs": [],
      "source": []
    },
    {
      "cell_type": "code",
      "source": [],
      "metadata": {
        "id": "jsma8wb3Ppd0"
      },
      "execution_count": null,
      "outputs": []
    },
    {
      "cell_type": "markdown",
      "source": [
        "# **Theory**"
      ],
      "metadata": {
        "id": "33xbkiE2RaoI"
      }
    },
    {
      "cell_type": "markdown",
      "source": [
        "1. **What is Python, and why is it popular?**\n",
        "- python is a interpreted programming language , it is very popular beacause of having lots of libraries ,simple syntax,easy to learn, also having large community support and cross platform compatibility.   \n",
        "\n",
        "\n",
        "\n",
        "\n",
        "\n",
        "\n",
        "\n"
      ],
      "metadata": {
        "id": "k7ojMHwDOqrC"
      }
    },
    {
      "cell_type": "markdown",
      "source": [
        "\n",
        "2. **What is an interpreter in Python?**\n",
        "- An interpreter in Python is a program that executes Python code line by line. Instead of compiling the entire code into machine language before running it"
      ],
      "metadata": {
        "id": "x5BuNLFwRqoO"
      }
    },
    {
      "cell_type": "markdown",
      "source": [
        "3. **What are pre-defined keywords in Python?**\n",
        "- Pre-defined keywords in Python are reserved words that have a specific meaning and purpose in the language. These keywords cannot be used as variable names, function names, or identifiers because they are part of Python's syntax.\n",
        "- e.g : Some keywords are if, else, elif, for, range, while, etc."
      ],
      "metadata": {
        "id": "jRQdAnlFSWIE"
      }
    },
    {
      "cell_type": "markdown",
      "source": [
        "4. **Can keywords be used as variable names?**\n",
        "- No we can't use keywords as variable names, because keywords are reserved words of pythons's syntax which have different purpose in the language."
      ],
      "metadata": {
        "id": "SAbzg3baTcpR"
      }
    },
    {
      "cell_type": "markdown",
      "source": [
        "5. **What is mutability in Python?**\n",
        "- mutability means what we can change and modify ,in python ,there are some data structures we can change and modify as per our needs.\n",
        "- example of mutable data strcuture is list, dictonary, set, etc."
      ],
      "metadata": {
        "id": "lQN-T1vtUWBc"
      }
    },
    {
      "cell_type": "code",
      "source": [
        "#Example of mutability :\n",
        "\n",
        "list = [1,2.5,\"pwskills\",True]\n",
        "print(\"printing the unmodified list :\",list)\n",
        "list[2] = \"data science\"\n",
        "print(\"printing the modified list :\",list)"
      ],
      "metadata": {
        "colab": {
          "base_uri": "https://localhost:8080/"
        },
        "id": "dxBTe_niRfyi",
        "outputId": "59ed2526-5adb-45d9-efbc-f8c0e49d4c90"
      },
      "execution_count": 5,
      "outputs": [
        {
          "output_type": "stream",
          "name": "stdout",
          "text": [
            "printing the unmodified list : [1, 2.5, 'pwskills', True]\n",
            "printing the modified list : [1, 2.5, 'data science', True]\n"
          ]
        }
      ]
    },
    {
      "cell_type": "markdown",
      "source": [
        "6. **Why are lists mutable, but tuples are immutable?**\n",
        "- Lists are designed to be dynamic and versatile data structures for storing collections of data that may change over time.\n",
        "- Tuples are often used to represent fixed collections of data (e.g., coordinates, database records) where immutability ensures that the data remains consistent.\n",
        "-  Tuples are more memory-efficient and faster than lists because they are immutable."
      ],
      "metadata": {
        "id": "XfV4O2dcWTAl"
      }
    },
    {
      "cell_type": "code",
      "source": [
        "#Example of list :\n",
        "my_list = [1, 2, 3]\n",
        "my_list.append(4)  # Adding an element\n",
        "my_list[0] = 10    # Modifying an element\n",
        "print(my_list)     # Output: [10, 2, 3, 4]\n",
        "\n",
        "#Example of tuple :\n",
        "my_tuple = (1, 2, 3)\n",
        "# my_tuple[0] = 10  # This will raise a TypeError\n",
        "print(my_tuple)     # Output: (1, 2, 3)\n",
        "\n"
      ],
      "metadata": {
        "colab": {
          "base_uri": "https://localhost:8080/"
        },
        "id": "4fSHhazNVnyh",
        "outputId": "eb86cb5c-0e32-4473-fb0b-8858ed30c024"
      },
      "execution_count": 8,
      "outputs": [
        {
          "output_type": "stream",
          "name": "stdout",
          "text": [
            "[10, 2, 3, 4]\n",
            "(1, 2, 3)\n"
          ]
        }
      ]
    },
    {
      "cell_type": "markdown",
      "source": [
        "7. **What is the difference between “==” and “is” operators in Python?**\n",
        "- \"==\" operator is used to see values or content is same or not.\n",
        "- \"is\" operator is used to see both objects are same or not."
      ],
      "metadata": {
        "id": "I2cWubkkXTBH"
      }
    },
    {
      "cell_type": "code",
      "source": [
        "#Example:\n",
        "x=100\n",
        "y=100\n",
        "print(x == y)\n",
        "x=10\n",
        "print(x is y)\n",
        "\n"
      ],
      "metadata": {
        "colab": {
          "base_uri": "https://localhost:8080/"
        },
        "id": "g1BdQ0JQXJjv",
        "outputId": "f4b400d5-c8b0-4580-9152-05558c69105e"
      },
      "execution_count": 16,
      "outputs": [
        {
          "output_type": "stream",
          "name": "stdout",
          "text": [
            "True\n",
            "False\n"
          ]
        }
      ]
    },
    {
      "cell_type": "code",
      "source": [],
      "metadata": {
        "id": "tocDsrdnYIXv"
      },
      "execution_count": null,
      "outputs": []
    },
    {
      "cell_type": "markdown",
      "source": [
        "8. **What are logical operators in Python?**\n",
        "- Logical operators in Python are used to combine or modify conditional statements, returning a Boolean value (True or False) based on the logic applied\n",
        "- some logical operator in python is and, or, not."
      ],
      "metadata": {
        "id": "D2LWgLZoZEob"
      }
    },
    {
      "cell_type": "code",
      "source": [
        "#example of logical operator:\n",
        "print(\"and operator :\",True and True)\n",
        "print(\"or operator :\",False or True)\n",
        "print(\"not operator :\",not True)"
      ],
      "metadata": {
        "colab": {
          "base_uri": "https://localhost:8080/"
        },
        "id": "s2Jw4X5yZouF",
        "outputId": "b2cf51a4-07f3-4e83-b39e-10ba62c29b6a"
      },
      "execution_count": 20,
      "outputs": [
        {
          "output_type": "stream",
          "name": "stdout",
          "text": [
            "and operator : True\n",
            "or operator : True\n",
            "not operator : False\n"
          ]
        }
      ]
    },
    {
      "cell_type": "markdown",
      "source": [
        "9. **What is type casting in Python?**\n",
        "- type casting mean in python is converting type of a variable to modify and manupulate data"
      ],
      "metadata": {
        "id": "gaRWS7fiaYS-"
      }
    },
    {
      "cell_type": "code",
      "source": [
        "#Example of type casting:\n",
        "a=10 # a is an integer value\n",
        "b=str(a) # here we converting or type casting value integer to string and storing converted value in varibale b\n",
        "b"
      ],
      "metadata": {
        "colab": {
          "base_uri": "https://localhost:8080/",
          "height": 35
        },
        "id": "WHwM9dfOZ0lW",
        "outputId": "0f925c5f-61f6-4f92-8a0b-bcaac69858a6"
      },
      "execution_count": 28,
      "outputs": [
        {
          "output_type": "execute_result",
          "data": {
            "text/plain": [
              "'10'"
            ],
            "application/vnd.google.colaboratory.intrinsic+json": {
              "type": "string"
            }
          },
          "metadata": {},
          "execution_count": 28
        }
      ]
    },
    {
      "cell_type": "markdown",
      "source": [
        "10. **What is the difference between implicit and explicit type casting?**\n",
        "- The Python interpreter automatically converts one data type to another when it is safe and logical to do so\n",
        "- we manually converts one data type into another using built-in functions like int(), float(), str(), etc."
      ],
      "metadata": {
        "id": "bcj1xkRWbv3q"
      }
    },
    {
      "cell_type": "code",
      "source": [
        "#Example:\n",
        "a = 5          # Integer\n",
        "b = \"10\"       # String\n",
        "result = a + int(b)  # Explicitly converts `b` to int\n",
        "print(result)  # Output: 15\n"
      ],
      "metadata": {
        "colab": {
          "base_uri": "https://localhost:8080/"
        },
        "id": "PBkiuvQJa6v9",
        "outputId": "413baff4-8201-466f-c29e-16f5317018c4"
      },
      "execution_count": 29,
      "outputs": [
        {
          "output_type": "stream",
          "name": "stdout",
          "text": [
            "15\n"
          ]
        }
      ]
    },
    {
      "cell_type": "markdown",
      "source": [
        "11. **What is the purpose of conditional statements in Python?**\n",
        "- Conditional statements are help to choose between  different courses of action based on the evaluation of conditionsor user's inpurs."
      ],
      "metadata": {
        "id": "rIYxqX5Kc1yA"
      }
    },
    {
      "cell_type": "code",
      "source": [
        "#example of conditional statements :\n",
        "age=int(input(\"Enter your age : \"))\n",
        "if(age>=18):\n",
        "  print(\"you are eligible to vote\")\n",
        "else:\n",
        "  print(\"you are not eligible to vote\")"
      ],
      "metadata": {
        "colab": {
          "base_uri": "https://localhost:8080/"
        },
        "id": "5ZssrX-Icl4s",
        "outputId": "a796bdd2-fee9-4057-8294-5e958b36c102"
      },
      "execution_count": 30,
      "outputs": [
        {
          "output_type": "stream",
          "name": "stdout",
          "text": [
            "Enter your age : 15\n",
            "you are not eligible to vote\n"
          ]
        }
      ]
    },
    {
      "cell_type": "markdown",
      "source": [
        "12.  **How does the elif statement work?**\n",
        "- The elif statement in Python  is used to test multiple conditions in a decision-making process"
      ],
      "metadata": {
        "id": "5GxI_3ZZd1yO"
      }
    },
    {
      "cell_type": "code",
      "source": [
        "#example:\n",
        "n=int(input(\"Enter a number : \"))\n",
        "if(n>0):\n",
        "  print(\"number is positive\")\n",
        "elif(n<0):\n",
        "  print(\"number is negative\")\n",
        "else:\n",
        "  print(\"number is zero\")"
      ],
      "metadata": {
        "colab": {
          "base_uri": "https://localhost:8080/"
        },
        "id": "HbVVTvCedxhb",
        "outputId": "05e67616-c5f0-4798-ef7a-e7569abdec31"
      },
      "execution_count": 31,
      "outputs": [
        {
          "output_type": "stream",
          "name": "stdout",
          "text": [
            "Enter a number : -2\n",
            "number is negative\n"
          ]
        }
      ]
    },
    {
      "cell_type": "markdown",
      "source": [
        "13. **What is the difference between for and while loops?**\n",
        "- A for loop is used to iterate over a sequence (e.g., a list, tuple, string, or range) or any iterable object.\n",
        "- Best for situations where the number of iterations is known or when iterating over a collection.\n",
        "- A while loop repeatedly executes a block of code as long as a given condition is True.\n",
        "- Best for situations where the number of iterations is not known in advance and depends on a condition."
      ],
      "metadata": {
        "id": "K4LSI7uteonf"
      }
    },
    {
      "cell_type": "markdown",
      "source": [
        "14. **Describe a scenario where a while loop is more suitable than a for loop.**\n",
        "- A while loop is more suitable than a for loop in situations where the number of iterations is not known in advance.\n",
        "- It's useful when you need to repeat actions until a certain condition is met, and the number of repetitions is determined by dynamic factors."
      ],
      "metadata": {
        "id": "ZYip92AgfaT4"
      }
    },
    {
      "cell_type": "code",
      "source": [
        "# example :\n",
        "# Keep asking the user to enter a positive number\n",
        "while True:\n",
        "    user_input = input(\"Enter a positive number: \")\n",
        "\n",
        "    # Check if the input is a valid positive number\n",
        "    if  int(user_input) > 0:\n",
        "        print(\"You entered and break the condition:\", user_input)\n",
        "        break  # Exit the loop once valid input is given\n",
        "    else:\n",
        "        print(\"That's not a  positive number. Please try again.\")\n",
        "\n"
      ],
      "metadata": {
        "colab": {
          "base_uri": "https://localhost:8080/"
        },
        "id": "RUi9gE8Xed9D",
        "outputId": "0ebe17ff-cc58-47e1-a31c-0ed8e2959d16"
      },
      "execution_count": 32,
      "outputs": [
        {
          "output_type": "stream",
          "name": "stdout",
          "text": [
            "Enter a positive number: -1\n",
            "That's not a  positive number. Please try again.\n",
            "Enter a positive number: 5\n",
            "You entered: 5\n"
          ]
        }
      ]
    },
    {
      "cell_type": "code",
      "source": [],
      "metadata": {
        "id": "WBCLkBX8gqBq"
      },
      "execution_count": null,
      "outputs": []
    },
    {
      "cell_type": "markdown",
      "source": [
        "# Practical Questions"
      ],
      "metadata": {
        "id": "rbktgiVRg_k9"
      }
    },
    {
      "cell_type": "code",
      "source": [
        "# 1. Write a Python program to print \"Hello, World!\"\n",
        "print(\"Hello, World!\")"
      ],
      "metadata": {
        "colab": {
          "base_uri": "https://localhost:8080/"
        },
        "id": "qmXt_79XhGKZ",
        "outputId": "d37736f6-8576-4775-9e57-2bdba06109ab"
      },
      "execution_count": 34,
      "outputs": [
        {
          "output_type": "stream",
          "name": "stdout",
          "text": [
            "Hello, World!\n"
          ]
        }
      ]
    },
    {
      "cell_type": "code",
      "source": [
        "#2. Write a Python program that displays your name and age\n",
        "print(\"My name is : Deep Sen\")\n",
        "print(\"My age is : 26\")"
      ],
      "metadata": {
        "colab": {
          "base_uri": "https://localhost:8080/"
        },
        "id": "aAtMBO8fheAB",
        "outputId": "681b1981-16a6-4752-e5c6-5ce5901fb06a"
      },
      "execution_count": 35,
      "outputs": [
        {
          "output_type": "stream",
          "name": "stdout",
          "text": [
            "My name is : Deep Sen\n",
            "My age is : 26\n"
          ]
        }
      ]
    },
    {
      "cell_type": "code",
      "source": [
        "#3. Write code to print all the pre-defined keywords in Python using the keyword library\n",
        "print(help(\"keywords\"))"
      ],
      "metadata": {
        "colab": {
          "base_uri": "https://localhost:8080/"
        },
        "id": "YO7AtRJUiAnx",
        "outputId": "b730f9d9-49c2-4d9c-9714-57c1b09ef0b4"
      },
      "execution_count": 36,
      "outputs": [
        {
          "output_type": "stream",
          "name": "stdout",
          "text": [
            "\n",
            "Here is a list of the Python keywords.  Enter any keyword to get more help.\n",
            "\n",
            "False               class               from                or\n",
            "None                continue            global              pass\n",
            "True                def                 if                  raise\n",
            "and                 del                 import              return\n",
            "as                  elif                in                  try\n",
            "assert              else                is                  while\n",
            "async               except              lambda              with\n",
            "await               finally             nonlocal            yield\n",
            "break               for                 not                 \n",
            "\n",
            "None\n"
          ]
        }
      ]
    },
    {
      "cell_type": "code",
      "source": [
        "#4.  Write a program that checks if a given word is a Python keyword\n",
        "word=input(\"Enter a word : \")\n",
        "import keyword\n",
        "if keyword.iskeyword(word):\n",
        "  print(\"It is a keyword\")\n",
        "else:\n",
        "  print(\"It is not a keyword\")"
      ],
      "metadata": {
        "colab": {
          "base_uri": "https://localhost:8080/"
        },
        "id": "KNsAmgbfiNVA",
        "outputId": "b9e33270-b533-4ab7-c57f-d8adf5ea5e8e"
      },
      "execution_count": 39,
      "outputs": [
        {
          "output_type": "stream",
          "name": "stdout",
          "text": [
            "Enter a word : bb\n",
            "It is not a keyword\n"
          ]
        }
      ]
    },
    {
      "cell_type": "code",
      "source": [
        "#5.  Create a list and tuple in Python, and demonstrate how attempting to change an element works differently for each\n",
        "list=[1,2.5,\"pwskills\",True]\n",
        "print(\"printing the unmodified list :\",list)\n",
        "list[2] = \"data science\"\n",
        "print(\"printing the modified list :\",list)\n",
        "tuple=(1,2.5,\"pwskills\",True)\n",
        "print(\"printing the unmodified tuple :\",tuple)\n",
        "#tuple[2] = \"data science\" #this line is give an error that tuple doesn't support item assignment\n",
        "#print(\"printing the modified tuple :\",tuple)"
      ],
      "metadata": {
        "colab": {
          "base_uri": "https://localhost:8080/"
        },
        "id": "Ac3VMybLiePA",
        "outputId": "96c53df6-c9ca-40fa-ecc2-fca62f2c8ddb"
      },
      "execution_count": 43,
      "outputs": [
        {
          "output_type": "stream",
          "name": "stdout",
          "text": [
            "printing the unmodified list : [1, 2.5, 'pwskills', True]\n",
            "printing the modified list : [1, 2.5, 'data science', True]\n",
            "printing the unmodified tuple : (1, 2.5, 'pwskills', True)\n"
          ]
        }
      ]
    },
    {
      "cell_type": "code",
      "source": [
        "#6.  Write a function to demonstrate the behavior of mutable and immutable arguments\n",
        "def modify_arguments(mutable_arg, immutable_arg):\n",
        "    mutable_arg.append(100)  # Modify the mutable object\n",
        "    immutable_arg += 10      # Modify the immutable object (creates a new object)\n",
        "\n",
        "# Test with mutable and immutable arguments\n",
        "my_list = [1, 2, 3]    # Mutable argument (list)\n",
        "my_number = 5           # Immutable argument (integer)\n",
        "\n",
        "print(\"Before function call:\")\n",
        "print(\"my_list:\", my_list)\n",
        "print(\"my_number:\", my_number)\n",
        "\n",
        "# Call the function\n",
        "modify_arguments(my_list, my_number)\n",
        "\n",
        "print(\"\\nAfter function call:\")\n",
        "print(\"my_list:\", my_list)        # List is modified\n",
        "print(\"my_number:\", my_number)    # Number is unchanged\n"
      ],
      "metadata": {
        "colab": {
          "base_uri": "https://localhost:8080/"
        },
        "id": "HyKBhM1bi2pI",
        "outputId": "a58566c7-1b4c-416e-c431-5727eefa977e"
      },
      "execution_count": 44,
      "outputs": [
        {
          "output_type": "stream",
          "name": "stdout",
          "text": [
            "Before function call:\n",
            "my_list: [1, 2, 3]\n",
            "my_number: 5\n",
            "\n",
            "After function call:\n",
            "my_list: [1, 2, 3, 100]\n",
            "my_number: 5\n"
          ]
        }
      ]
    },
    {
      "cell_type": "code",
      "source": [
        "#8. Write a program to demonstrate the use of logical operators\n",
        "n=int(input(\"Enter a number between 1 to 10 : \"))\n",
        "if(n>0 and n <=10):\n",
        "  print(\"number is in range\")\n",
        "else:\n",
        "  print(\"number not in range\")"
      ],
      "metadata": {
        "colab": {
          "base_uri": "https://localhost:8080/"
        },
        "id": "b1rha8rSkUP_",
        "outputId": "01a95ddd-dd37-428f-ae3c-313af908b855"
      },
      "execution_count": 51,
      "outputs": [
        {
          "output_type": "stream",
          "name": "stdout",
          "text": [
            "Enter a number between 1 to 10 : 4\n",
            "number is in range\n"
          ]
        }
      ]
    },
    {
      "cell_type": "code",
      "source": [
        "#9. Write a Python program to convert user input from string to integer, float, and boolean types\n",
        "user_input = input(\"Enter a value: \")\n",
        "integer_value = int(user_input)\n",
        "print(integer_value)\n",
        "float_value = float(user_input)\n",
        "print(float_value)\n",
        "boolean_value = bool(user_input)\n",
        "print(boolean_value)\n"
      ],
      "metadata": {
        "colab": {
          "base_uri": "https://localhost:8080/"
        },
        "id": "OS4oVTLSk9Rf",
        "outputId": "7f37266d-bca0-4198-9da0-c07218835ed0"
      },
      "execution_count": 56,
      "outputs": [
        {
          "output_type": "stream",
          "name": "stdout",
          "text": [
            "Enter a value: 1\n",
            "1\n",
            "1.0\n",
            "True\n"
          ]
        }
      ]
    },
    {
      "cell_type": "code",
      "source": [
        "#10.  Write code to demonstrate type casting with list elements\n",
        "list=[1,2.5,\"data science\"]\n",
        "print(\"printing the  list before type casting :\",list)\n",
        "list[1]=int(list[1])\n",
        "print(\"printing the  list after type casting :\",list)\n",
        "\n"
      ],
      "metadata": {
        "colab": {
          "base_uri": "https://localhost:8080/"
        },
        "id": "m8Ip24kWmXjl",
        "outputId": "8bc56d26-88ab-443a-8cb4-dcc82410f6dc"
      },
      "execution_count": 57,
      "outputs": [
        {
          "output_type": "stream",
          "name": "stdout",
          "text": [
            "printing the  list before type casting : [1, 2.5, 'data science']\n",
            "printing the  list after type casting : [1, 2, 'data science']\n"
          ]
        }
      ]
    },
    {
      "cell_type": "code",
      "source": [
        "#11.  Write a program that checks if a number is positive, negative, or zero\n",
        "n=int(input(\"Enter a number : \"))\n",
        "if(n>0):\n",
        "  print(\"number is positive\")\n",
        "elif(n<0):\n",
        "  print(\"number is negative\")\n",
        "else:\n",
        "  print(\"number is zero\")\n"
      ],
      "metadata": {
        "colab": {
          "base_uri": "https://localhost:8080/"
        },
        "id": "Mwpvw8wVnPsN",
        "outputId": "6c5a0dae-b967-4742-df2b-1e8cd173c990"
      },
      "execution_count": 60,
      "outputs": [
        {
          "output_type": "stream",
          "name": "stdout",
          "text": [
            "Enter a number : 11\n",
            "number is positive\n"
          ]
        }
      ]
    },
    {
      "cell_type": "code",
      "source": [
        "#12. Write a for loop to print numbers from 1 to 10\n",
        "for i in range(1,11):\n",
        "  print(i,end=\" \")"
      ],
      "metadata": {
        "colab": {
          "base_uri": "https://localhost:8080/"
        },
        "id": "yWUQ-Gg9ng1E",
        "outputId": "e41c8702-4d98-4ac6-d29e-0950815cf977"
      },
      "execution_count": 61,
      "outputs": [
        {
          "output_type": "stream",
          "name": "stdout",
          "text": [
            "1 2 3 4 5 6 7 8 9 10 "
          ]
        }
      ]
    },
    {
      "cell_type": "code",
      "source": [
        "#13. Write a Python program to find the sum of all even numbers between 1 and 50\n",
        "sum=0\n",
        "i=1\n",
        "while(i<51):\n",
        "  if(i%2==0):\n",
        "    sum=sum+i\n",
        "  i=i+1\n",
        "print(\"um of all even numbers between 1 and 50: \",sum)"
      ],
      "metadata": {
        "colab": {
          "base_uri": "https://localhost:8080/"
        },
        "id": "gHWT6FQcnwrG",
        "outputId": "14ee755c-39e2-4c09-eac4-4fd6176681e4"
      },
      "execution_count": 63,
      "outputs": [
        {
          "output_type": "stream",
          "name": "stdout",
          "text": [
            "um of all even numbers between 1 and 50:  650\n"
          ]
        }
      ]
    },
    {
      "cell_type": "code",
      "source": [
        "#14. Write a program to reverse a string using a while loop\n",
        "n=input(\"Enter a string : \")\n",
        "i=len(n)-1\n",
        "while(i>=0):\n",
        "  print(n[i],end=\"\")\n",
        "  i=i-1"
      ],
      "metadata": {
        "colab": {
          "base_uri": "https://localhost:8080/"
        },
        "id": "Y77OdFBfo_rs",
        "outputId": "e816a83a-8e7d-4668-e049-91696dbbcbb2"
      },
      "execution_count": 64,
      "outputs": [
        {
          "output_type": "stream",
          "name": "stdout",
          "text": [
            "Enter a string : Deep\n",
            "peeD"
          ]
        }
      ]
    },
    {
      "cell_type": "code",
      "source": [
        "# Write a Python program to calculate the factorial of a number provided by the user using a while loop\n",
        "n=int(input(\"Enter a number : \"))\n",
        "i=1\n",
        "fact=1\n",
        "while(i<=n):\n",
        "  fact=fact*i\n",
        "  i=i+1\n",
        "print(fact)"
      ],
      "metadata": {
        "colab": {
          "base_uri": "https://localhost:8080/"
        },
        "id": "qENpvdztpmCc",
        "outputId": "0630d660-046f-4ef9-e987-679ff1690b42"
      },
      "execution_count": 66,
      "outputs": [
        {
          "output_type": "stream",
          "name": "stdout",
          "text": [
            "Enter a number : 5\n",
            "120\n"
          ]
        }
      ]
    },
    {
      "cell_type": "code",
      "source": [],
      "metadata": {
        "id": "TodSKDPppyiT"
      },
      "execution_count": null,
      "outputs": []
    }
  ]
}